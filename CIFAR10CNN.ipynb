{
  "nbformat": 4,
  "nbformat_minor": 0,
  "metadata": {
    "colab": {
      "provenance": []
    },
    "kernelspec": {
      "name": "python3",
      "display_name": "Python 3"
    },
    "language_info": {
      "name": "python"
    }
  },
  "cells": [
    {
      "cell_type": "code",
      "execution_count": 1,
      "metadata": {
        "id": "GwyT3vIvcuMs"
      },
      "outputs": [],
      "source": [
        "import tensorflow as tf\n",
        "from tensorflow.keras import datasets, layers, models\n",
        "import matplotlib.pyplot as plt\n",
        "import numpy as np"
      ]
    },
    {
      "cell_type": "code",
      "source": [
        "(x_train, y_train), (x_test, y_test) = datasets.cifar10.load_data()\n",
        "x_train.shape"
      ],
      "metadata": {
        "colab": {
          "base_uri": "https://localhost:8080/"
        },
        "id": "d8lNTYAGdcjs",
        "outputId": "476957c5-135f-4b6c-8e29-bc8128ba64f1"
      },
      "execution_count": 2,
      "outputs": [
        {
          "output_type": "stream",
          "name": "stdout",
          "text": [
            "Downloading data from https://www.cs.toronto.edu/~kriz/cifar-10-python.tar.gz\n",
            "170498071/170498071 [==============================] - 6s 0us/step\n"
          ]
        },
        {
          "output_type": "execute_result",
          "data": {
            "text/plain": [
              "(50000, 32, 32, 3)"
            ]
          },
          "metadata": {},
          "execution_count": 2
        }
      ]
    },
    {
      "cell_type": "code",
      "source": [
        "x_train[:5]"
      ],
      "metadata": {
        "colab": {
          "base_uri": "https://localhost:8080/"
        },
        "id": "8GNxYcBbD13p",
        "outputId": "5e9c18ea-8a90-47fd-f407-ec81f6faab17"
      },
      "execution_count": 9,
      "outputs": [
        {
          "output_type": "execute_result",
          "data": {
            "text/plain": [
              "array([[[[0.23137255, 0.24313725, 0.24705882],\n",
              "         [0.16862745, 0.18039216, 0.17647059],\n",
              "         [0.19607843, 0.18823529, 0.16862745],\n",
              "         ...,\n",
              "         [0.61960784, 0.51764706, 0.42352941],\n",
              "         [0.59607843, 0.49019608, 0.4       ],\n",
              "         [0.58039216, 0.48627451, 0.40392157]],\n",
              "\n",
              "        [[0.0627451 , 0.07843137, 0.07843137],\n",
              "         [0.        , 0.        , 0.        ],\n",
              "         [0.07058824, 0.03137255, 0.        ],\n",
              "         ...,\n",
              "         [0.48235294, 0.34509804, 0.21568627],\n",
              "         [0.46666667, 0.3254902 , 0.19607843],\n",
              "         [0.47843137, 0.34117647, 0.22352941]],\n",
              "\n",
              "        [[0.09803922, 0.09411765, 0.08235294],\n",
              "         [0.0627451 , 0.02745098, 0.        ],\n",
              "         [0.19215686, 0.10588235, 0.03137255],\n",
              "         ...,\n",
              "         [0.4627451 , 0.32941176, 0.19607843],\n",
              "         [0.47058824, 0.32941176, 0.19607843],\n",
              "         [0.42745098, 0.28627451, 0.16470588]],\n",
              "\n",
              "        ...,\n",
              "\n",
              "        [[0.81568627, 0.66666667, 0.37647059],\n",
              "         [0.78823529, 0.6       , 0.13333333],\n",
              "         [0.77647059, 0.63137255, 0.10196078],\n",
              "         ...,\n",
              "         [0.62745098, 0.52156863, 0.2745098 ],\n",
              "         [0.21960784, 0.12156863, 0.02745098],\n",
              "         [0.20784314, 0.13333333, 0.07843137]],\n",
              "\n",
              "        [[0.70588235, 0.54509804, 0.37647059],\n",
              "         [0.67843137, 0.48235294, 0.16470588],\n",
              "         [0.72941176, 0.56470588, 0.11764706],\n",
              "         ...,\n",
              "         [0.72156863, 0.58039216, 0.36862745],\n",
              "         [0.38039216, 0.24313725, 0.13333333],\n",
              "         [0.3254902 , 0.20784314, 0.13333333]],\n",
              "\n",
              "        [[0.69411765, 0.56470588, 0.45490196],\n",
              "         [0.65882353, 0.50588235, 0.36862745],\n",
              "         [0.70196078, 0.55686275, 0.34117647],\n",
              "         ...,\n",
              "         [0.84705882, 0.72156863, 0.54901961],\n",
              "         [0.59215686, 0.4627451 , 0.32941176],\n",
              "         [0.48235294, 0.36078431, 0.28235294]]],\n",
              "\n",
              "\n",
              "       [[[0.60392157, 0.69411765, 0.73333333],\n",
              "         [0.49411765, 0.5372549 , 0.53333333],\n",
              "         [0.41176471, 0.40784314, 0.37254902],\n",
              "         ...,\n",
              "         [0.35686275, 0.37254902, 0.27843137],\n",
              "         [0.34117647, 0.35294118, 0.27843137],\n",
              "         [0.30980392, 0.31764706, 0.2745098 ]],\n",
              "\n",
              "        [[0.54901961, 0.62745098, 0.6627451 ],\n",
              "         [0.56862745, 0.6       , 0.60392157],\n",
              "         [0.49019608, 0.49019608, 0.4627451 ],\n",
              "         ...,\n",
              "         [0.37647059, 0.38823529, 0.30588235],\n",
              "         [0.30196078, 0.31372549, 0.24313725],\n",
              "         [0.27843137, 0.28627451, 0.23921569]],\n",
              "\n",
              "        [[0.54901961, 0.60784314, 0.64313725],\n",
              "         [0.54509804, 0.57254902, 0.58431373],\n",
              "         [0.45098039, 0.45098039, 0.43921569],\n",
              "         ...,\n",
              "         [0.30980392, 0.32156863, 0.25098039],\n",
              "         [0.26666667, 0.2745098 , 0.21568627],\n",
              "         [0.2627451 , 0.27058824, 0.21568627]],\n",
              "\n",
              "        ...,\n",
              "\n",
              "        [[0.68627451, 0.65490196, 0.65098039],\n",
              "         [0.61176471, 0.60392157, 0.62745098],\n",
              "         [0.60392157, 0.62745098, 0.66666667],\n",
              "         ...,\n",
              "         [0.16470588, 0.13333333, 0.14117647],\n",
              "         [0.23921569, 0.20784314, 0.22352941],\n",
              "         [0.36470588, 0.3254902 , 0.35686275]],\n",
              "\n",
              "        [[0.64705882, 0.60392157, 0.50196078],\n",
              "         [0.61176471, 0.59607843, 0.50980392],\n",
              "         [0.62352941, 0.63137255, 0.55686275],\n",
              "         ...,\n",
              "         [0.40392157, 0.36470588, 0.37647059],\n",
              "         [0.48235294, 0.44705882, 0.47058824],\n",
              "         [0.51372549, 0.4745098 , 0.51372549]],\n",
              "\n",
              "        [[0.63921569, 0.58039216, 0.47058824],\n",
              "         [0.61960784, 0.58039216, 0.47843137],\n",
              "         [0.63921569, 0.61176471, 0.52156863],\n",
              "         ...,\n",
              "         [0.56078431, 0.52156863, 0.54509804],\n",
              "         [0.56078431, 0.5254902 , 0.55686275],\n",
              "         [0.56078431, 0.52156863, 0.56470588]]],\n",
              "\n",
              "\n",
              "       [[[1.        , 1.        , 1.        ],\n",
              "         [0.99215686, 0.99215686, 0.99215686],\n",
              "         [0.99215686, 0.99215686, 0.99215686],\n",
              "         ...,\n",
              "         [0.99215686, 0.99215686, 0.99215686],\n",
              "         [0.99215686, 0.99215686, 0.99215686],\n",
              "         [0.99215686, 0.99215686, 0.99215686]],\n",
              "\n",
              "        [[1.        , 1.        , 1.        ],\n",
              "         [1.        , 1.        , 1.        ],\n",
              "         [1.        , 1.        , 1.        ],\n",
              "         ...,\n",
              "         [1.        , 1.        , 1.        ],\n",
              "         [1.        , 1.        , 1.        ],\n",
              "         [1.        , 1.        , 1.        ]],\n",
              "\n",
              "        [[1.        , 1.        , 1.        ],\n",
              "         [0.99607843, 0.99607843, 0.99607843],\n",
              "         [0.99607843, 0.99607843, 0.99607843],\n",
              "         ...,\n",
              "         [0.99607843, 0.99607843, 0.99607843],\n",
              "         [0.99607843, 0.99607843, 0.99607843],\n",
              "         [0.99607843, 0.99607843, 0.99607843]],\n",
              "\n",
              "        ...,\n",
              "\n",
              "        [[0.44313725, 0.47058824, 0.43921569],\n",
              "         [0.43529412, 0.4627451 , 0.43529412],\n",
              "         [0.41176471, 0.43921569, 0.41568627],\n",
              "         ...,\n",
              "         [0.28235294, 0.31764706, 0.31372549],\n",
              "         [0.28235294, 0.31372549, 0.30980392],\n",
              "         [0.28235294, 0.31372549, 0.30980392]],\n",
              "\n",
              "        [[0.43529412, 0.4627451 , 0.43137255],\n",
              "         [0.40784314, 0.43529412, 0.40784314],\n",
              "         [0.38823529, 0.41568627, 0.38431373],\n",
              "         ...,\n",
              "         [0.26666667, 0.29411765, 0.28627451],\n",
              "         [0.2745098 , 0.29803922, 0.29411765],\n",
              "         [0.30588235, 0.32941176, 0.32156863]],\n",
              "\n",
              "        [[0.41568627, 0.44313725, 0.41176471],\n",
              "         [0.38823529, 0.41568627, 0.38431373],\n",
              "         [0.37254902, 0.4       , 0.36862745],\n",
              "         ...,\n",
              "         [0.30588235, 0.33333333, 0.3254902 ],\n",
              "         [0.30980392, 0.33333333, 0.3254902 ],\n",
              "         [0.31372549, 0.3372549 , 0.32941176]]],\n",
              "\n",
              "\n",
              "       [[[0.10980392, 0.09803922, 0.03921569],\n",
              "         [0.14509804, 0.13333333, 0.0745098 ],\n",
              "         [0.14901961, 0.1372549 , 0.07843137],\n",
              "         ...,\n",
              "         [0.29803922, 0.2627451 , 0.15294118],\n",
              "         [0.31764706, 0.28235294, 0.16862745],\n",
              "         [0.33333333, 0.29803922, 0.18431373]],\n",
              "\n",
              "        [[0.12941176, 0.10980392, 0.05098039],\n",
              "         [0.13333333, 0.11764706, 0.05490196],\n",
              "         [0.1254902 , 0.10588235, 0.04705882],\n",
              "         ...,\n",
              "         [0.37254902, 0.32156863, 0.21568627],\n",
              "         [0.37647059, 0.32156863, 0.21960784],\n",
              "         [0.33333333, 0.28235294, 0.17647059]],\n",
              "\n",
              "        [[0.15294118, 0.1254902 , 0.05882353],\n",
              "         [0.15686275, 0.12941176, 0.06666667],\n",
              "         [0.22352941, 0.19607843, 0.12941176],\n",
              "         ...,\n",
              "         [0.36470588, 0.29803922, 0.20392157],\n",
              "         [0.41960784, 0.34901961, 0.25882353],\n",
              "         [0.37254902, 0.30196078, 0.21176471]],\n",
              "\n",
              "        ...,\n",
              "\n",
              "        [[0.3254902 , 0.28627451, 0.20392157],\n",
              "         [0.34117647, 0.30196078, 0.21960784],\n",
              "         [0.32941176, 0.29019608, 0.20392157],\n",
              "         ...,\n",
              "         [0.38823529, 0.36470588, 0.2745098 ],\n",
              "         [0.35294118, 0.32941176, 0.23921569],\n",
              "         [0.31764706, 0.29411765, 0.20392157]],\n",
              "\n",
              "        [[0.34509804, 0.28235294, 0.2       ],\n",
              "         [0.35294118, 0.29019608, 0.20392157],\n",
              "         [0.36470588, 0.30196078, 0.21960784],\n",
              "         ...,\n",
              "         [0.31372549, 0.29019608, 0.20784314],\n",
              "         [0.29803922, 0.2745098 , 0.19215686],\n",
              "         [0.32156863, 0.29803922, 0.21568627]],\n",
              "\n",
              "        [[0.38039216, 0.30588235, 0.21960784],\n",
              "         [0.36862745, 0.29411765, 0.20784314],\n",
              "         [0.36470588, 0.29411765, 0.20784314],\n",
              "         ...,\n",
              "         [0.21176471, 0.18431373, 0.10980392],\n",
              "         [0.24705882, 0.21960784, 0.14509804],\n",
              "         [0.28235294, 0.25490196, 0.18039216]]],\n",
              "\n",
              "\n",
              "       [[[0.66666667, 0.70588235, 0.77647059],\n",
              "         [0.65882353, 0.69803922, 0.76862745],\n",
              "         [0.69411765, 0.7254902 , 0.79607843],\n",
              "         ...,\n",
              "         [0.63529412, 0.70196078, 0.84313725],\n",
              "         [0.61960784, 0.69803922, 0.83921569],\n",
              "         [0.61568627, 0.69411765, 0.83137255]],\n",
              "\n",
              "        [[0.65882353, 0.70980392, 0.77647059],\n",
              "         [0.6745098 , 0.7254902 , 0.78823529],\n",
              "         [0.67058824, 0.71764706, 0.78431373],\n",
              "         ...,\n",
              "         [0.62352941, 0.69411765, 0.83137255],\n",
              "         [0.61176471, 0.69019608, 0.82745098],\n",
              "         [0.60392157, 0.68235294, 0.81960784]],\n",
              "\n",
              "        [[0.60392157, 0.66666667, 0.72941176],\n",
              "         [0.58431373, 0.64705882, 0.70980392],\n",
              "         [0.50588235, 0.56470588, 0.63529412],\n",
              "         ...,\n",
              "         [0.63137255, 0.69803922, 0.83921569],\n",
              "         [0.61568627, 0.69411765, 0.83137255],\n",
              "         [0.60392157, 0.68235294, 0.81960784]],\n",
              "\n",
              "        ...,\n",
              "\n",
              "        [[0.29019608, 0.32941176, 0.31372549],\n",
              "         [0.29803922, 0.33333333, 0.31764706],\n",
              "         [0.30588235, 0.33333333, 0.32156863],\n",
              "         ...,\n",
              "         [0.27843137, 0.29411765, 0.30588235],\n",
              "         [0.26666667, 0.28235294, 0.29411765],\n",
              "         [0.23921569, 0.25490196, 0.26666667]],\n",
              "\n",
              "        [[0.26666667, 0.29803922, 0.30196078],\n",
              "         [0.27058824, 0.30196078, 0.30588235],\n",
              "         [0.28235294, 0.30980392, 0.30588235],\n",
              "         ...,\n",
              "         [0.29803922, 0.31372549, 0.3254902 ],\n",
              "         [0.27843137, 0.29411765, 0.30588235],\n",
              "         [0.27843137, 0.29411765, 0.30588235]],\n",
              "\n",
              "        [[0.2627451 , 0.29411765, 0.30588235],\n",
              "         [0.26666667, 0.29803922, 0.30980392],\n",
              "         [0.27058824, 0.29411765, 0.29803922],\n",
              "         ...,\n",
              "         [0.29411765, 0.30980392, 0.32156863],\n",
              "         [0.27843137, 0.29411765, 0.30588235],\n",
              "         [0.28627451, 0.30196078, 0.31372549]]]])"
            ]
          },
          "metadata": {},
          "execution_count": 9
        }
      ]
    },
    {
      "cell_type": "code",
      "source": [
        "y_train[:5]"
      ],
      "metadata": {
        "colab": {
          "base_uri": "https://localhost:8080/"
        },
        "id": "e8eGtCopD64M",
        "outputId": "01620244-207e-49c5-a680-de2547746fcd"
      },
      "execution_count": 10,
      "outputs": [
        {
          "output_type": "execute_result",
          "data": {
            "text/plain": [
              "array([6, 9, 9, 4, 1], dtype=uint8)"
            ]
          },
          "metadata": {},
          "execution_count": 10
        }
      ]
    },
    {
      "cell_type": "code",
      "source": [
        "print(y_train.shape)\n",
        "print(y_test.shape)\n",
        "print(x_test.shape)"
      ],
      "metadata": {
        "colab": {
          "base_uri": "https://localhost:8080/"
        },
        "id": "ulvA3lbjRBV_",
        "outputId": "0a7444f4-046d-478d-be62-265351eb94d7"
      },
      "execution_count": 3,
      "outputs": [
        {
          "output_type": "stream",
          "name": "stdout",
          "text": [
            "(50000, 1)\n",
            "(10000, 1)\n",
            "(10000, 32, 32, 3)\n"
          ]
        }
      ]
    },
    {
      "cell_type": "code",
      "source": [
        "plt.imshow(x_train[19283])"
      ],
      "metadata": {
        "colab": {
          "base_uri": "https://localhost:8080/",
          "height": 283
        },
        "id": "hWECopevRFYW",
        "outputId": "d17d2cef-36ab-4464-efa6-0f4a868036bf"
      },
      "execution_count": 4,
      "outputs": [
        {
          "output_type": "execute_result",
          "data": {
            "text/plain": [
              "<matplotlib.image.AxesImage at 0x7f0e313bfe20>"
            ]
          },
          "metadata": {},
          "execution_count": 4
        },
        {
          "output_type": "display_data",
          "data": {
            "text/plain": [
              "<Figure size 432x288 with 1 Axes>"
            ],
            "image/png": "[encoded data removed]"
          },
          "metadata": {
            "needs_background": "light"
          }
        }
      ]
    },
    {
      "cell_type": "code",
      "source": [
        "classes = [\"airplane\",\"automobile\",\"bird\",\"cat\",\"deer\",\"dog\",\"frog\",\"horse\",\"ship\",\"truck\"]\n",
        "y_train = y_train.reshape(-1,)\n",
        "x_train = x_train / 255\n",
        "x_test = x_test / 255\n",
        "y_test = y_test.reshape(-1,)"
      ],
      "metadata": {
        "id": "4BYDDBEZecvI"
      },
      "execution_count": 5,
      "outputs": []
    },
    {
      "cell_type": "code",
      "source": [
        "cnn = models.Sequential([\n",
        "\n",
        "      layers.Conv2D(filters=32, kernel_size=(3,3), activation='relu', input_shape=(32,32,3)),\n",
        "      layers.MaxPooling2D(2,2),\n",
        "      layers.Conv2D(filters=32, kernel_size=(3,3), activation='relu', input_shape=(32,32,3)),\n",
        "      layers.MaxPooling2D(2,2),\n",
        "\n",
        "      layers.Flatten(),\n",
        "      layers.Dense(50, activation='relu'),\n",
        "      layers.Dense(10, activation='softmax')\n",
        "])"
      ],
      "metadata": {
        "id": "IieVGgmIh8uK"
      },
      "execution_count": 6,
      "outputs": []
    },
    {
      "cell_type": "code",
      "source": [
        "cnn.compile(optimizer='adam', loss='sparse_categorical_crossentropy', metrics=['accuracy'])"
      ],
      "metadata": {
        "id": "O48QbebIkXe8"
      },
      "execution_count": 11,
      "outputs": []
    },
    {
      "cell_type": "code",
      "source": [
        "cnn.fit(x_train, y_train, epochs=5)"
      ],
      "metadata": {
        "colab": {
          "base_uri": "https://localhost:8080/"
        },
        "id": "L5joGkfDk50M",
        "outputId": "90b273d8-7d35-4a77-81d8-69a728da7a3d"
      },
      "execution_count": 12,
      "outputs": [
        {
          "output_type": "stream",
          "name": "stdout",
          "text": [
            "Epoch 1/5\n",
            "1563/1563 [==============================] - 42s 26ms/step - loss: 1.5779 - accuracy: 0.4316\n",
            "Epoch 2/5\n",
            "1563/1563 [==============================] - 41s 26ms/step - loss: 1.2263 - accuracy: 0.5682\n",
            "Epoch 3/5\n",
            "1563/1563 [==============================] - 41s 26ms/step - loss: 1.0954 - accuracy: 0.6200\n",
            "Epoch 4/5\n",
            "1563/1563 [==============================] - 41s 26ms/step - loss: 1.0170 - accuracy: 0.6472\n",
            "Epoch 5/5\n",
            "1563/1563 [==============================] - 40s 26ms/step - loss: 0.9677 - accuracy: 0.6631\n"
          ]
        },
        {
          "output_type": "execute_result",
          "data": {
            "text/plain": [
              "<keras.callbacks.History at 0x7f0e29d7be80>"
            ]
          },
          "metadata": {},
          "execution_count": 12
        }
      ]
    },
    {
      "cell_type": "code",
      "source": [
        "x_test.shape"
      ],
      "metadata": {
        "colab": {
          "base_uri": "https://localhost:8080/"
        },
        "id": "WbzNmqT8YxjK",
        "outputId": "4e50e834-e6ad-4768-a4e2-28f76f1ff83d"
      },
      "execution_count": 13,
      "outputs": [
        {
          "output_type": "execute_result",
          "data": {
            "text/plain": [
              "(10000, 32, 32, 3)"
            ]
          },
          "metadata": {},
          "execution_count": 13
        }
      ]
    },
    {
      "cell_type": "code",
      "source": [
        "y_pred = cnn.predict(x_test)"
      ],
      "metadata": {
        "colab": {
          "base_uri": "https://localhost:8080/"
        },
        "id": "XKKqOPsTW87Z",
        "outputId": "93563d92-128b-4457-9ff4-341f3157c867"
      },
      "execution_count": 14,
      "outputs": [
        {
          "output_type": "stream",
          "name": "stdout",
          "text": [
            "313/313 [==============================] - 3s 8ms/step\n"
          ]
        }
      ]
    },
    {
      "cell_type": "code",
      "source": [
        "def plot_image(x, y, index):\n",
        "    plt.figure(figsize = (15,2))\n",
        "    plt.imshow(x[index])\n",
        "    plt.xlabel(classes[y[index]])\n",
        "    if classes[y[index]]==classes[y_test[index]]:\n",
        "      print('CORRECT')\n",
        "    else:\n",
        "      print(\"WRONG\")\n"
      ],
      "metadata": {
        "id": "iyw7cDQcTOyN"
      },
      "execution_count": 26,
      "outputs": []
    },
    {
      "cell_type": "code",
      "source": [
        "y_pred"
      ],
      "metadata": {
        "colab": {
          "base_uri": "https://localhost:8080/"
        },
        "id": "mmBlEyQgamYX",
        "outputId": "c8db1172-6472-4bd2-8dec-f2c4cc2fb9b3"
      },
      "execution_count": 16,
      "outputs": [
        {
          "output_type": "execute_result",
          "data": {
            "text/plain": [
              "array([[1.4009750e-03, 2.4884120e-03, 9.7668394e-03, ..., 8.8158827e-03,\n",
              "        4.3476380e-02, 4.0903566e-03],\n",
              "       [5.1863234e-02, 3.7067652e-02, 2.7511126e-04, ..., 1.3209534e-05,\n",
              "        9.0545917e-01, 5.1861587e-03],\n",
              "       [4.5290168e-02, 5.7892770e-01, 9.7866422e-03, ..., 1.8469075e-03,\n",
              "        2.7577490e-01, 7.6001711e-02],\n",
              "       ...,\n",
              "       [3.4782715e-04, 4.8617712e-05, 4.2406686e-02, ..., 2.4628341e-01,\n",
              "        4.8984166e-05, 1.1103348e-03],\n",
              "       [6.9926761e-02, 5.2313435e-01, 1.4771559e-02, ..., 4.9423622e-03,\n",
              "        2.8902290e-03, 1.1583957e-02],\n",
              "       [6.8104739e-05, 2.8657503e-04, 1.3331686e-03, ..., 9.7443783e-01,\n",
              "        1.6899761e-05, 1.8034736e-04]], dtype=float32)"
            ]
          },
          "metadata": {},
          "execution_count": 16
        }
      ]
    },
    {
      "cell_type": "code",
      "source": [
        "plot_image(x_test, y_test, 56)"
      ],
      "metadata": {
        "colab": {
          "base_uri": "https://localhost:8080/",
          "height": 173
        },
        "id": "bShdmIxwZPpN",
        "outputId": "761aa27a-8a2e-4099-eb8b-7f02b8c8a8aa"
      },
      "execution_count": 17,
      "outputs": [
        {
          "output_type": "display_data",
          "data": {
            "text/plain": [
              "<Figure size 1080x144 with 1 Axes>"
            ],
            "image/png": "[encoded data removed]"
          },
          "metadata": {
            "needs_background": "light"
          }
        }
      ]
    },
    {
      "cell_type": "code",
      "source": [
        "y_classes = [np.argmax(element) for element in y_pred]\n",
        "y_classes[:5]"
      ],
      "metadata": {
        "colab": {
          "base_uri": "https://localhost:8080/"
        },
        "id": "yhO3q0S7Ih8O",
        "outputId": "b99da3a3-3b91-4a23-fa8b-a7c74aa25953"
      },
      "execution_count": 21,
      "outputs": [
        {
          "output_type": "execute_result",
          "data": {
            "text/plain": [
              "[3, 8, 1, 8, 6]"
            ]
          },
          "metadata": {},
          "execution_count": 21
        }
      ]
    },
    {
      "cell_type": "code",
      "source": [
        "plot_image(x_test, y_classes, 56)"
      ],
      "metadata": {
        "colab": {
          "base_uri": "https://localhost:8080/",
          "height": 190
        },
        "id": "rUv-h98Haeof",
        "outputId": "af280eae-60ab-4079-8e78-c526975ed788"
      },
      "execution_count": 28,
      "outputs": [
        {
          "output_type": "stream",
          "name": "stdout",
          "text": [
            "CORRECT\n"
          ]
        },
        {
          "output_type": "display_data",
          "data": {
            "text/plain": [
              "<Figure size 1080x144 with 1 Axes>"
            ],
            "image/png": "[encoded data removed]"
          },
          "metadata": {
            "needs_background": "light"
          }
        }
      ]
    },
    {
      "cell_type": "code",
      "source": [
        "plot_image(x_test, y_classes, 6843)"
      ],
      "metadata": {
        "colab": {
          "base_uri": "https://localhost:8080/",
          "height": 190
        },
        "id": "FeBl7XcMI7QN",
        "outputId": "79786be5-42f1-4530-ca10-ccf3282247d6"
      },
      "execution_count": 27,
      "outputs": [
        {
          "output_type": "stream",
          "name": "stdout",
          "text": [
            "CORRECT\n"
          ]
        },
        {
          "output_type": "display_data",
          "data": {
            "text/plain": [
              "<Figure size 1080x144 with 1 Axes>"
            ],
            "image/png": "[encoded data removed]"
          },
          "metadata": {
            "needs_background": "light"
          }
        }
      ]
    },
    {
      "cell_type": "code",
      "source": [
        "plot_image(x_test, y_classes, 767)"
      ],
      "metadata": {
        "colab": {
          "base_uri": "https://localhost:8080/",
          "height": 190
        },
        "id": "81KR6iroJAoH",
        "outputId": "45a36d14-31d7-4e98-9232-4cdd9490654e"
      },
      "execution_count": 29,
      "outputs": [
        {
          "output_type": "stream",
          "name": "stdout",
          "text": [
            "WRONG\n"
          ]
        },
        {
          "output_type": "display_data",
          "data": {
            "text/plain": [
              "<Figure size 1080x144 with 1 Axes>"
            ],
            "image/png": "[encoded data removed]"
          },
          "metadata": {
            "needs_background": "light"
          }
        }
      ]
    },
    {
      "cell_type": "code",
      "source": [
        "plot_image(x_test, y_classes, 1000)"
      ],
      "metadata": {
        "colab": {
          "base_uri": "https://localhost:8080/",
          "height": 190
        },
        "id": "rV0T4C8WJyxt",
        "outputId": "3ef65d41-fc71-4602-8cee-d059b5d92c91"
      },
      "execution_count": 30,
      "outputs": [
        {
          "output_type": "stream",
          "name": "stdout",
          "text": [
            "CORRECT\n"
          ]
        },
        {
          "output_type": "display_data",
          "data": {
            "text/plain": [
              "<Figure size 1080x144 with 1 Axes>"
            ],
            "image/png": "[encoded data removed]"
          },
          "metadata": {
            "needs_background": "light"
          }
        }
      ]
    }
  ]
}
